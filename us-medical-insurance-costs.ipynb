{
 "cells": [
  {
   "cell_type": "markdown",
   "metadata": {},
   "source": [
    "# U.S. Medical Insurance Costs"
   ]
  },
  {
   "cell_type": "code",
   "execution_count": 11,
   "metadata": {},
   "outputs": [],
   "source": [
    "import pandas"
   ]
  },
  {
   "cell_type": "code",
   "execution_count": 12,
   "metadata": {},
   "outputs": [
    {
     "name": "stdout",
     "output_type": "stream",
     "text": [
      "      age     sex     bmi  children smoker     region      charges\n",
      "0      19  female  27.900         0    yes  southwest  16884.92400\n",
      "1      18    male  33.770         1     no  southeast   1725.55230\n",
      "2      28    male  33.000         3     no  southeast   4449.46200\n",
      "3      33    male  22.705         0     no  northwest  21984.47061\n",
      "4      32    male  28.880         0     no  northwest   3866.85520\n",
      "...   ...     ...     ...       ...    ...        ...          ...\n",
      "1333   50    male  30.970         3     no  northwest  10600.54830\n",
      "1334   18  female  31.920         0     no  northeast   2205.98080\n",
      "1335   18  female  36.850         0     no  southeast   1629.83350\n",
      "1336   21  female  25.800         0     no  southwest   2007.94500\n",
      "1337   61  female  29.070         0    yes  northwest  29141.36030\n",
      "\n",
      "[1338 rows x 7 columns]\n"
     ]
    }
   ],
   "source": [
    "#Read and store data\n",
    "df = pandas.read_csv(\"insurance.csv\")\n",
    "print(df)\n"
   ]
  },
  {
   "cell_type": "code",
   "execution_count": null,
   "metadata": {},
   "outputs": [
    {
     "name": "stdout",
     "output_type": "stream",
     "text": [
      "average age of the patients is: 39.20702541106129\n"
     ]
    }
   ],
   "source": [
    "#1-Find out the average age of the patients in the dataset.\n",
    "sum_age = 0\n",
    "for age in df['age']:\n",
    "    sum_age += age\n",
    "avg_age = sum_age / len(df[\"age\"])\n",
    "print(\"Average age of the patients is: \" + str(avg_age))"
   ]
  },
  {
   "cell_type": "code",
   "execution_count": 26,
   "metadata": {},
   "outputs": [
    {
     "name": "stdout",
     "output_type": "stream",
     "text": [
      "Majority of individuals are from: southeast with 364 people\n"
     ]
    }
   ],
   "source": [
    "#2-Analyze where a majority of the individuals are from.\n",
    "regions_population = {}\n",
    "for region in df['region']:\n",
    "    if region not in regions_population.keys():\n",
    "        regions_population[region] = 1\n",
    "    else:\n",
    "          regions_population[region] += 1\n",
    "\n",
    "max_key = \"\"\n",
    "max_val = 0\n",
    "\n",
    "for key, val in regions_population.items():\n",
    "     if val > max_val:\n",
    "          max_key = key\n",
    "          max_val = val\n",
    "\n",
    "\n",
    "print(\"Majority of individuals are from: \" + max_key + \" with \" + str(max_val) + \" people\")\n",
    "\n",
    "\n",
    "        "
   ]
  },
  {
   "cell_type": "code",
   "execution_count": 36,
   "metadata": {},
   "outputs": [
    {
     "name": "stdout",
     "output_type": "stream",
     "text": [
      "Average cost of smokers: 32050.23183153285\n",
      "Average cost of non-smokers: 8434.268297856202\n",
      "Smokers pay 23615.963533676644extra on average\n"
     ]
    }
   ],
   "source": [
    "#3-Look at the different costs between smokers vs. non-smokers.\n",
    "smokers_df = df[df['smoker'] == 'yes']\n",
    "smokers_avg = sum(smokers_df['charges']) / len(smokers_df)\n",
    "non_smokers_df = df[df['smoker'] == 'no']\n",
    "non_smokers_avg = sum(non_smokers_df['charges']) / len(non_smokers_df)\n",
    "\n",
    "print(\"Average cost of smokers: \" + str(smokers_avg))\n",
    "print(\"Average cost of non-smokers: \" + str(non_smokers_avg))\n",
    "print(\"Smokers pay \" + str(smokers_avg - non_smokers_avg) + \"extra on average\")"
   ]
  }
 ],
 "metadata": {
  "kernelspec": {
   "display_name": "DSA201",
   "language": "python",
   "name": "python3"
  },
  "language_info": {
   "codemirror_mode": {
    "name": "ipython",
    "version": 3
   },
   "file_extension": ".py",
   "mimetype": "text/x-python",
   "name": "python",
   "nbconvert_exporter": "python",
   "pygments_lexer": "ipython3",
   "version": "3.12.5"
  }
 },
 "nbformat": 4,
 "nbformat_minor": 4
}
